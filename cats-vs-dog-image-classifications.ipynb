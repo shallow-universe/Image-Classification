{
 "cells": [
  {
   "cell_type": "markdown",
   "id": "85eca0f5",
   "metadata": {
    "papermill": {
     "duration": 0.010312,
     "end_time": "2023-10-26T18:45:25.522438",
     "exception": false,
     "start_time": "2023-10-26T18:45:25.512126",
     "status": "completed"
    },
    "tags": []
   },
   "source": [
    "# Import Libraries"
   ]
  },
  {
   "cell_type": "code",
   "execution_count": 1,
   "id": "804ecebd",
   "metadata": {
    "_cell_guid": "b1076dfc-b9ad-4769-8c92-a6c4dae69d19",
    "_uuid": "8f2839f25d086af736a60e9eeb907d3b93b6e0e5",
    "execution": {
     "iopub.execute_input": "2023-10-26T18:45:25.541189Z",
     "iopub.status.busy": "2023-10-26T18:45:25.539604Z",
     "iopub.status.idle": "2023-10-26T18:45:30.100616Z",
     "shell.execute_reply": "2023-10-26T18:45:30.098892Z"
    },
    "papermill": {
     "duration": 4.574446,
     "end_time": "2023-10-26T18:45:30.104142",
     "exception": false,
     "start_time": "2023-10-26T18:45:25.529696",
     "status": "completed"
    },
    "tags": []
   },
   "outputs": [],
   "source": [
    "import torch\n",
    "from torchvision import datasets, transforms\n",
    "import torch.nn as nn\n",
    "import torch.optim as optim"
   ]
  },
  {
   "cell_type": "markdown",
   "id": "9e5ef582",
   "metadata": {
    "papermill": {
     "duration": 0.006482,
     "end_time": "2023-10-26T18:45:30.117967",
     "exception": false,
     "start_time": "2023-10-26T18:45:30.111485",
     "status": "completed"
    },
    "tags": []
   },
   "source": [
    "# Define the data transforms"
   ]
  },
  {
   "cell_type": "code",
   "execution_count": 2,
   "id": "0b7f6346",
   "metadata": {
    "execution": {
     "iopub.execute_input": "2023-10-26T18:45:30.134115Z",
     "iopub.status.busy": "2023-10-26T18:45:30.133493Z",
     "iopub.status.idle": "2023-10-26T18:45:30.140514Z",
     "shell.execute_reply": "2023-10-26T18:45:30.138955Z"
    },
    "papermill": {
     "duration": 0.018001,
     "end_time": "2023-10-26T18:45:30.142961",
     "exception": false,
     "start_time": "2023-10-26T18:45:30.124960",
     "status": "completed"
    },
    "tags": []
   },
   "outputs": [],
   "source": [
    "transform = transforms.Compose([\n",
    "    transforms.Resize((224, 224)),\n",
    "    transforms.ToTensor(),\n",
    "    transforms.Normalize([0.485, 0.456, 0.406], [0.229, 0.224, 0.225])\n",
    "])\n"
   ]
  },
  {
   "cell_type": "markdown",
   "id": "a0e32e96",
   "metadata": {
    "papermill": {
     "duration": 0.006797,
     "end_time": "2023-10-26T18:45:30.156530",
     "exception": false,
     "start_time": "2023-10-26T18:45:30.149733",
     "status": "completed"
    },
    "tags": []
   },
   "source": [
    "# Load the dataset"
   ]
  },
  {
   "cell_type": "code",
   "execution_count": 3,
   "id": "3e1eadf4",
   "metadata": {
    "execution": {
     "iopub.execute_input": "2023-10-26T18:45:30.172748Z",
     "iopub.status.busy": "2023-10-26T18:45:30.171143Z",
     "iopub.status.idle": "2023-10-26T18:45:30.298880Z",
     "shell.execute_reply": "2023-10-26T18:45:30.297848Z"
    },
    "papermill": {
     "duration": 0.138787,
     "end_time": "2023-10-26T18:45:30.301892",
     "exception": false,
     "start_time": "2023-10-26T18:45:30.163105",
     "status": "completed"
    },
    "tags": []
   },
   "outputs": [],
   "source": [
    "train_dataset = datasets.ImageFolder(root='train', transform=transform)\n",
    "test_dataset = datasets.ImageFolder(root='test', transform=transform)"
   ]
  },
  {
   "cell_type": "markdown",
   "id": "71ecbadc",
   "metadata": {
    "papermill": {
     "duration": 0.00791,
     "end_time": "2023-10-26T18:45:30.317166",
     "exception": false,
     "start_time": "2023-10-26T18:45:30.309256",
     "status": "completed"
    },
    "tags": []
   },
   "source": [
    "# Create the data loaders"
   ]
  },
  {
   "cell_type": "code",
   "execution_count": 4,
   "id": "8e489750",
   "metadata": {
    "execution": {
     "iopub.execute_input": "2023-10-26T18:45:30.335606Z",
     "iopub.status.busy": "2023-10-26T18:45:30.334079Z",
     "iopub.status.idle": "2023-10-26T18:45:30.340350Z",
     "shell.execute_reply": "2023-10-26T18:45:30.339475Z"
    },
    "papermill": {
     "duration": 0.01815,
     "end_time": "2023-10-26T18:45:30.343227",
     "exception": false,
     "start_time": "2023-10-26T18:45:30.325077",
     "status": "completed"
    },
    "tags": []
   },
   "outputs": [],
   "source": [
    "train_loader = torch.utils.data.DataLoader(train_dataset, batch_size=32, shuffle=True)\n",
    "test_loader = torch.utils.data.DataLoader(test_dataset, batch_size=32, shuffle=False)\n"
   ]
  },
  {
   "cell_type": "markdown",
   "id": "3e5673be",
   "metadata": {
    "papermill": {
     "duration": 0.00681,
     "end_time": "2023-10-26T18:45:30.357533",
     "exception": false,
     "start_time": "2023-10-26T18:45:30.350723",
     "status": "completed"
    },
    "tags": []
   },
   "source": [
    "# Define CNN Model"
   ]
  },
  {
   "cell_type": "code",
   "execution_count": 5,
   "id": "76d2f07d",
   "metadata": {
    "execution": {
     "iopub.execute_input": "2023-10-26T18:45:30.375861Z",
     "iopub.status.busy": "2023-10-26T18:45:30.374137Z",
     "iopub.status.idle": "2023-10-26T18:45:30.386441Z",
     "shell.execute_reply": "2023-10-26T18:45:30.384594Z"
    },
    "papermill": {
     "duration": 0.024262,
     "end_time": "2023-10-26T18:45:30.389149",
     "exception": false,
     "start_time": "2023-10-26T18:45:30.364887",
     "status": "completed"
    },
    "tags": []
   },
   "outputs": [],
   "source": [
    "\n",
    "class CNN(nn.Module):\n",
    "    def __init__(self):\n",
    "        super(CNN, self).__init__()\n",
    "        self.conv1 = nn.Conv2d(3, 6, 5)\n",
    "        self.conv2 = nn.Conv2d(6, 16, 5)\n",
    "        self.pool = nn.MaxPool2d(2, 2)\n",
    "        self.fc1 = nn.Linear(16 * 53 * 53, 120)\n",
    "        self.fc2 = nn.Linear(120, 84)\n",
    "        self.fc3 = nn.Linear(84, 2)\n",
    "\n",
    "    def forward(self, x):\n",
    "        x = self.conv1(x)\n",
    "        x = self.pool(x)\n",
    "        x = self.conv2(x)\n",
    "        x = self.pool(x)\n",
    "        x = x.view(-1, 16 * 53 * 53)\n",
    "        x = self.fc1(x)\n",
    "        x = self.fc2(x)\n",
    "        x = self.fc3(x)\n",
    "\n",
    "        return x"
   ]
  },
  {
   "cell_type": "markdown",
   "id": "cf88e626",
   "metadata": {
    "papermill": {
     "duration": 0.006401,
     "end_time": "2023-10-26T18:45:30.402491",
     "exception": false,
     "start_time": "2023-10-26T18:45:30.396090",
     "status": "completed"
    },
    "tags": []
   },
   "source": [
    "# Define the loss function and optimizer"
   ]
  },
  {
   "cell_type": "code",
   "execution_count": 6,
   "id": "c00c2630",
   "metadata": {
    "execution": {
     "iopub.execute_input": "2023-10-26T18:45:30.418720Z",
     "iopub.status.busy": "2023-10-26T18:45:30.417264Z",
     "iopub.status.idle": "2023-10-26T18:45:30.551465Z",
     "shell.execute_reply": "2023-10-26T18:45:30.549936Z"
    },
    "papermill": {
     "duration": 0.145575,
     "end_time": "2023-10-26T18:45:30.554591",
     "exception": false,
     "start_time": "2023-10-26T18:45:30.409016",
     "status": "completed"
    },
    "tags": []
   },
   "outputs": [],
   "source": [
    "\n",
    "model = CNN()\n",
    "loss_function = nn.CrossEntropyLoss()\n",
    "optimizer = optim.Adam(model.parameters(), lr=0.001)\n"
   ]
  },
  {
   "cell_type": "markdown",
   "id": "659addcc",
   "metadata": {
    "papermill": {
     "duration": 0.007179,
     "end_time": "2023-10-26T18:45:30.568761",
     "exception": false,
     "start_time": "2023-10-26T18:45:30.561582",
     "status": "completed"
    },
    "tags": []
   },
   "source": [
    "# Train the Model"
   ]
  },
  {
   "cell_type": "code",
   "execution_count": 7,
   "id": "4deb2fe7",
   "metadata": {
    "execution": {
     "iopub.execute_input": "2023-10-26T18:45:30.584402Z",
     "iopub.status.busy": "2023-10-26T18:45:30.583578Z",
     "iopub.status.idle": "2023-10-26T18:48:04.620415Z",
     "shell.execute_reply": "2023-10-26T18:48:04.619400Z"
    },
    "papermill": {
     "duration": 154.048964,
     "end_time": "2023-10-26T18:48:04.624341",
     "exception": false,
     "start_time": "2023-10-26T18:45:30.575377",
     "status": "completed"
    },
    "tags": []
   },
   "outputs": [
    {
     "name": "stdout",
     "output_type": "stream",
     "text": [
      "Epoch [1/10], Step [1/18], Loss: 0.6677\n",
      "Epoch [2/10], Step [1/18], Loss: 0.7758\n",
      "Epoch [3/10], Step [1/18], Loss: 0.5575\n",
      "Epoch [4/10], Step [1/18], Loss: 0.6335\n",
      "Epoch [5/10], Step [1/18], Loss: 0.5567\n",
      "Epoch [6/10], Step [1/18], Loss: 0.3389\n",
      "Epoch [7/10], Step [1/18], Loss: 0.4074\n",
      "Epoch [8/10], Step [1/18], Loss: 0.1492\n",
      "Epoch [9/10], Step [1/18], Loss: 0.1247\n",
      "Epoch [10/10], Step [1/18], Loss: 0.0444\n"
     ]
    }
   ],
   "source": [
    "\n",
    "for epoch in range(10):\n",
    "    for i, (images, labels) in enumerate(train_loader):\n",
    "\n",
    "        outputs = model(images)\n",
    "\n",
    "        loss = loss_function(outputs, labels)\n",
    "\n",
    "        optimizer.zero_grad()\n",
    "        loss.backward()\n",
    "        optimizer.step()\n",
    "\n",
    "        if i % 100 == 0:\n",
    "            print('Epoch [{}/{}], Step [{}/{}], Loss: {:.4f}'.format(epoch + 1, 10, i + 1, len(train_loader), loss.item()))\n"
   ]
  },
  {
   "cell_type": "markdown",
   "id": "1d71073f",
   "metadata": {
    "papermill": {
     "duration": 0.008965,
     "end_time": "2023-10-26T18:48:04.641949",
     "exception": false,
     "start_time": "2023-10-26T18:48:04.632984",
     "status": "completed"
    },
    "tags": []
   },
   "source": [
    "# Evaluate the model on the test set"
   ]
  },
  {
   "cell_type": "code",
   "execution_count": 8,
   "id": "324ecd36",
   "metadata": {
    "execution": {
     "iopub.execute_input": "2023-10-26T18:48:04.660867Z",
     "iopub.status.busy": "2023-10-26T18:48:04.660440Z",
     "iopub.status.idle": "2023-10-26T18:48:04.665710Z",
     "shell.execute_reply": "2023-10-26T18:48:04.664500Z"
    },
    "papermill": {
     "duration": 0.018881,
     "end_time": "2023-10-26T18:48:04.669430",
     "exception": false,
     "start_time": "2023-10-26T18:48:04.650549",
     "status": "completed"
    },
    "tags": []
   },
   "outputs": [],
   "source": [
    "correct = 0\n",
    "total = 0"
   ]
  },
  {
   "cell_type": "markdown",
   "id": "edb25630",
   "metadata": {
    "papermill": {
     "duration": 0.009282,
     "end_time": "2023-10-26T18:48:04.687174",
     "exception": false,
     "start_time": "2023-10-26T18:48:04.677892",
     "status": "completed"
    },
    "tags": []
   },
   "source": [
    "# Iterate over the test data"
   ]
  },
  {
   "cell_type": "code",
   "execution_count": 9,
   "id": "a882ce85",
   "metadata": {
    "execution": {
     "iopub.execute_input": "2023-10-26T18:48:04.707954Z",
     "iopub.status.busy": "2023-10-26T18:48:04.707535Z",
     "iopub.status.idle": "2023-10-26T18:48:08.366021Z",
     "shell.execute_reply": "2023-10-26T18:48:08.365016Z"
    },
    "papermill": {
     "duration": 3.673185,
     "end_time": "2023-10-26T18:48:08.369124",
     "exception": false,
     "start_time": "2023-10-26T18:48:04.695939",
     "status": "completed"
    },
    "tags": []
   },
   "outputs": [],
   "source": [
    "for i, (images, labels) in enumerate(test_loader):\n",
    "\n",
    "    outputs = model(images)\n",
    "\n",
    "    _, predicted = torch.max(outputs.data, 1)\n",
    "\n",
    "    correct += (predicted == labels).sum().item()\n",
    "    total += labels.size(0)"
   ]
  },
  {
   "cell_type": "markdown",
   "id": "24d318f8",
   "metadata": {
    "papermill": {
     "duration": 0.008277,
     "end_time": "2023-10-26T18:48:08.386776",
     "exception": false,
     "start_time": "2023-10-26T18:48:08.378499",
     "status": "completed"
    },
    "tags": []
   },
   "source": [
    "# Calculate the accuracy"
   ]
  },
  {
   "cell_type": "code",
   "execution_count": 10,
   "id": "6eaa4320",
   "metadata": {
    "execution": {
     "iopub.execute_input": "2023-10-26T18:48:08.404373Z",
     "iopub.status.busy": "2023-10-26T18:48:08.403893Z",
     "iopub.status.idle": "2023-10-26T18:48:08.410103Z",
     "shell.execute_reply": "2023-10-26T18:48:08.408664Z"
    },
    "papermill": {
     "duration": 0.018307,
     "end_time": "2023-10-26T18:48:08.412733",
     "exception": false,
     "start_time": "2023-10-26T18:48:08.394426",
     "status": "completed"
    },
    "tags": []
   },
   "outputs": [],
   "source": [
    "accuracy = correct / total * 100"
   ]
  },
  {
   "cell_type": "markdown",
   "id": "e4499816",
   "metadata": {
    "papermill": {
     "duration": 0.008278,
     "end_time": "2023-10-26T18:48:08.428752",
     "exception": false,
     "start_time": "2023-10-26T18:48:08.420474",
     "status": "completed"
    },
    "tags": []
   },
   "source": [
    "# Print the accuracy"
   ]
  },
  {
   "cell_type": "code",
   "execution_count": 11,
   "id": "026341c4",
   "metadata": {
    "execution": {
     "iopub.execute_input": "2023-10-26T18:48:08.450350Z",
     "iopub.status.busy": "2023-10-26T18:48:08.449486Z",
     "iopub.status.idle": "2023-10-26T18:48:08.455687Z",
     "shell.execute_reply": "2023-10-26T18:48:08.454848Z"
    },
    "papermill": {
     "duration": 0.021432,
     "end_time": "2023-10-26T18:48:08.459361",
     "exception": false,
     "start_time": "2023-10-26T18:48:08.437929",
     "status": "completed"
    },
    "tags": []
   },
   "outputs": [
    {
     "name": "stdout",
     "output_type": "stream",
     "text": [
      "Accuracy: 53.57142857142857\n"
     ]
    }
   ],
   "source": [
    "print('Accuracy:', accuracy)"
   ]
  }
 ],
 "metadata": {
  "kernelspec": {
   "display_name": "Python 3",
   "language": "python",
   "name": "python3"
  },
  "language_info": {
   "codemirror_mode": {
    "name": "ipython",
    "version": 3
   },
   "file_extension": ".py",
   "mimetype": "text/x-python",
   "name": "python",
   "nbconvert_exporter": "python",
   "pygments_lexer": "ipython3",
   "version": "3.11.5"
  },
  "papermill": {
   "default_parameters": {},
   "duration": 167.936093,
   "end_time": "2023-10-26T18:48:09.698633",
   "environment_variables": {},
   "exception": null,
   "input_path": "__notebook__.ipynb",
   "output_path": "__notebook__.ipynb",
   "parameters": {},
   "start_time": "2023-10-26T18:45:21.762540",
   "version": "2.4.0"
  }
 },
 "nbformat": 4,
 "nbformat_minor": 5
}
